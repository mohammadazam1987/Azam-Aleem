{
  "nbformat": 4,
  "nbformat_minor": 0,
  "metadata": {
    "colab": {
      "provenance": [],
      "authorship_tag": "ABX9TyO2amH2ZH8mcl/KqkLwqBvG",
      "include_colab_link": true
    },
    "kernelspec": {
      "name": "python3",
      "display_name": "Python 3"
    },
    "language_info": {
      "name": "python"
    }
  },
  "cells": [
    {
      "cell_type": "markdown",
      "metadata": {
        "id": "view-in-github",
        "colab_type": "text"
      },
      "source": [
        "<a href=\"https://colab.research.google.com/github/mohammadazam1987/Azam-Aleem/blob/main/countdowntimer.ipynb\" target=\"_parent\"><img src=\"https://colab.research.google.com/assets/colab-badge.svg\" alt=\"Open In Colab\"/></a>"
      ]
    },
    {
      "cell_type": "code",
      "execution_count": 1,
      "metadata": {
        "colab": {
          "base_uri": "https://localhost:8080/"
        },
        "id": "5vOmEzEQQuu_",
        "outputId": "3110c87d-1855-4ee7-e0c7-c61e469ce7c7"
      },
      "outputs": [
        {
          "output_type": "stream",
          "name": "stdout",
          "text": [
            "Fire in the hole!!\n"
          ]
        }
      ],
      "source": [
        "# prompt: to create a code in python for Countdown Timer\n",
        "\n",
        "import time\n",
        "\n",
        "def countdown(t):\n",
        "    \"\"\"\n",
        "    Counts down from a given time in seconds.\n",
        "    \"\"\"\n",
        "    while t:\n",
        "        mins, secs = divmod(t, 60)\n",
        "        timer = '{:02d}:{:02d}'.format(mins, secs)\n",
        "        print(timer, end=\"\\r\")\n",
        "        time.sleep(1)\n",
        "        t -= 1\n",
        "\n",
        "    print('Fire in the hole!!')\n",
        "\n",
        "# Example usage:\n",
        "seconds = 10 # Change this to set the desired countdown time.\n",
        "countdown(seconds)\n"
      ]
    }
  ]
}