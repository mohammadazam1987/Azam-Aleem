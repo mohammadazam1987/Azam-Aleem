{
  "nbformat": 4,
  "nbformat_minor": 0,
  "metadata": {
    "colab": {
      "provenance": [],
      "include_colab_link": true
    },
    "kernelspec": {
      "name": "python3",
      "display_name": "Python 3"
    },
    "language_info": {
      "name": "python"
    }
  },
  "cells": [
    {
      "cell_type": "markdown",
      "metadata": {
        "id": "view-in-github",
        "colab_type": "text"
      },
      "source": [
        "<a href=\"https://colab.research.google.com/github/mohammadazam1987/Azam-Aleem/blob/main/guessnumber.ipynb\" target=\"_parent\"><img src=\"https://colab.research.google.com/assets/colab-badge.svg\" alt=\"Open In Colab\"/></a>"
      ]
    },
    {
      "cell_type": "markdown",
      "source": [
        "Guess the Number Game Python Project (computer)"
      ],
      "metadata": {
        "id": "mBJgXz4_8bRy"
      }
    },
    {
      "cell_type": "code",
      "execution_count": null,
      "metadata": {
        "colab": {
          "base_uri": "https://localhost:8080/"
        },
        "id": "w3royiUW8Z-C",
        "outputId": "521f1187-2e2e-4fc0-818d-8c0b33f20739"
      },
      "outputs": [
        {
          "output_type": "stream",
          "name": "stdout",
          "text": [
            "Guess a number between 1 and 10: 9\n",
            "Sorry, guess again. Too high.\n",
            "Guess a number between 1 and 10: 5\n",
            "Sorry, guess again. Too low.\n",
            "Guess a number between 1 and 10: 6\n",
            "Sorry, guess again. Too low.\n",
            "Guess a number between 1 and 10: 8\n",
            "Congrats you have guessed the Number 8 Correctly\n"
          ]
        }
      ],
      "source": [
        "import random\n",
        "def guess(x):\n",
        "    random_number = random.randint(1, x)\n",
        "    guess = 0\n",
        "    while guess != random_number:\n",
        "        guess = int(input(f'Guess a number between 1 and {x}: '))\n",
        "        if guess < random_number:\n",
        "            print('Sorry, guess again. Too low.')\n",
        "        elif guess > random_number:\n",
        "            print('Sorry, guess again. Too high.')\n",
        "        else:\n",
        "            print(f\"Congrats you have guessed the Number {random_number } Correctly\")\n",
        "guess(10)"
      ]
    },
    {
      "cell_type": "markdown",
      "source": [
        "Guess the Number Game Python Project (user)"
      ],
      "metadata": {
        "id": "WEO4fqTECKj1"
      }
    },
    {
      "cell_type": "code",
      "source": [
        "def computer_guess(x):\n",
        "    low = 1\n",
        "    high = x\n",
        "    feedback = ''\n",
        "    while feedback != 'c':\n",
        "      guess = random.randint(low, high)\n",
        "      feedback = input(f'Is {guess} too high (H), too low (L), or correct (C)?? ').lower()\n",
        "      if feedback == 'h':\n",
        "        high = guess - 1\n",
        "      elif feedback == 'l':\n",
        "        low = guess + 1\n",
        "    print(f'Yay! The computer guessed your number, {guess}, correctly!')\n",
        "computer_guess(10)\n"
      ],
      "metadata": {
        "colab": {
          "base_uri": "https://localhost:8080/"
        },
        "id": "8LwMoMhtE_kb",
        "outputId": "a3a9c8c7-a645-4e36-c1df-2c31b4ef632b"
      },
      "execution_count": null,
      "outputs": [
        {
          "output_type": "stream",
          "name": "stdout",
          "text": [
            "Is 3 too high (H), too low (L), or correct (C)?? l\n",
            "Is 4 too high (H), too low (L), or correct (C)?? l\n",
            "Is 8 too high (H), too low (L), or correct (C)?? h\n",
            "Is 5 too high (H), too low (L), or correct (C)?? c\n",
            "Yay! The computer guessed your number, 5, correctly!\n"
          ]
        }
      ]
    }
  ]
}