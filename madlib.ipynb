{
  "nbformat": 4,
  "nbformat_minor": 0,
  "metadata": {
    "colab": {
      "provenance": [],
      "include_colab_link": true
    },
    "kernelspec": {
      "name": "python3",
      "display_name": "Python 3"
    },
    "language_info": {
      "name": "python"
    }
  },
  "cells": [
    {
      "cell_type": "markdown",
      "metadata": {
        "id": "view-in-github",
        "colab_type": "text"
      },
      "source": [
        "<a href=\"https://colab.research.google.com/github/mohammadazam1987/Azam-Aleem/blob/main/madlib.ipynb\" target=\"_parent\"><img src=\"https://colab.research.google.com/assets/colab-badge.svg\" alt=\"Open In Colab\"/></a>"
      ]
    },
    {
      "cell_type": "markdown",
      "source": [
        "Mad libs Python Project"
      ],
      "metadata": {
        "id": "y7uNvAe4ySDy"
      }
    },
    {
      "cell_type": "code",
      "source": [
        "institute = input(\"Enter your Institute Name: \")\n",
        "print(\"i am learning pythong from:\" + institute)\n",
        "print(\"i am learning pythong from {}\".format(institute))\n",
        "print(f\"i am learning pythong from {institute}\")\n"
      ],
      "metadata": {
        "colab": {
          "base_uri": "https://localhost:8080/"
        },
        "id": "GbcpJ8Xo2qmw",
        "outputId": "805286b5-38c1-430a-b669-1db25a393a9f"
      },
      "execution_count": null,
      "outputs": [
        {
          "output_type": "stream",
          "name": "stdout",
          "text": [
            "Enter your Institute Name: PIAIC\n",
            "i am learning pythong from:PIAIC\n",
            "i am learning pythong from PIAIC\n",
            "i am learning pythong from PIAIC\n"
          ]
        }
      ]
    },
    {
      "cell_type": "code",
      "source": [
        "adj = input(\"Adjective: \")\n",
        "verb1 = input(\"Verb: \")\n",
        "famous_person = input(\"Famous Person: \")\n",
        "print(f\" A {adj} {verb1} over the {famous_person}\")"
      ],
      "metadata": {
        "colab": {
          "base_uri": "https://localhost:8080/"
        },
        "id": "Ma8W4csZ4Pzj",
        "outputId": "e7968354-00d8-43ff-f440-cfd4605b3417"
      },
      "execution_count": null,
      "outputs": [
        {
          "output_type": "stream",
          "name": "stdout",
          "text": [
            "Adjective: big brown\n",
            "Verb: fox jumps\n",
            "Famous Person: lazy dog\n",
            " A big brown fox jumps over the lazy dog\n"
          ]
        }
      ]
    }
  ]
}