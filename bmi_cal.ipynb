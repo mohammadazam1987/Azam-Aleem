{
  "nbformat": 4,
  "nbformat_minor": 0,
  "metadata": {
    "colab": {
      "provenance": [],
      "include_colab_link": true
    },
    "kernelspec": {
      "name": "python3",
      "display_name": "Python 3"
    },
    "language_info": {
      "name": "python"
    }
  },
  "cells": [
    {
      "cell_type": "markdown",
      "metadata": {
        "id": "view-in-github",
        "colab_type": "text"
      },
      "source": [
        "<a href=\"https://colab.research.google.com/github/mohammadazam1987/Azam-Aleem/blob/main/bmi_cal.ipynb\" target=\"_parent\"><img src=\"https://colab.research.google.com/assets/colab-badge.svg\" alt=\"Open In Colab\"/></a>"
      ]
    },
    {
      "cell_type": "code",
      "execution_count": null,
      "metadata": {
        "colab": {
          "base_uri": "https://localhost:8080/",
          "height": 383
        },
        "id": "Yh0JQSV4Hqyu",
        "outputId": "2a0acce8-3ed8-472f-e876-d99b6d5ba6a9"
      },
      "outputs": [
        {
          "output_type": "error",
          "ename": "ModuleNotFoundError",
          "evalue": "No module named 'streamlit'",
          "traceback": [
            "\u001b[0;31m---------------------------------------------------------------------------\u001b[0m",
            "\u001b[0;31mModuleNotFoundError\u001b[0m                       Traceback (most recent call last)",
            "\u001b[0;32m<ipython-input-1-46a8408af001>\u001b[0m in \u001b[0;36m<cell line: 0>\u001b[0;34m()\u001b[0m\n\u001b[1;32m      1\u001b[0m \u001b[0;31m# prompt: Create a Python Streamlit BMI Calculator Web App in Just 6 Minutes\u001b[0m\u001b[0;34m\u001b[0m\u001b[0;34m\u001b[0m\u001b[0m\n\u001b[1;32m      2\u001b[0m \u001b[0;34m\u001b[0m\u001b[0m\n\u001b[0;32m----> 3\u001b[0;31m \u001b[0;32mimport\u001b[0m \u001b[0mstreamlit\u001b[0m \u001b[0;32mas\u001b[0m \u001b[0mst\u001b[0m\u001b[0;34m\u001b[0m\u001b[0;34m\u001b[0m\u001b[0m\n\u001b[0m\u001b[1;32m      4\u001b[0m \u001b[0;34m\u001b[0m\u001b[0m\n\u001b[1;32m      5\u001b[0m \u001b[0mst\u001b[0m\u001b[0;34m.\u001b[0m\u001b[0mtitle\u001b[0m\u001b[0;34m(\u001b[0m\u001b[0;34m\"BMI Calculator\"\u001b[0m\u001b[0;34m)\u001b[0m\u001b[0;34m\u001b[0m\u001b[0;34m\u001b[0m\u001b[0m\n",
            "\u001b[0;31mModuleNotFoundError\u001b[0m: No module named 'streamlit'",
            "",
            "\u001b[0;31m---------------------------------------------------------------------------\u001b[0;32m\nNOTE: If your import is failing due to a missing package, you can\nmanually install dependencies using either !pip or !apt.\n\nTo view examples of installing some common dependencies, click the\n\"Open Examples\" button below.\n\u001b[0;31m---------------------------------------------------------------------------\u001b[0m\n"
          ],
          "errorDetails": {
            "actions": [
              {
                "action": "open_url",
                "actionText": "Open Examples",
                "url": "/notebooks/snippets/importing_libraries.ipynb"
              }
            ]
          }
        }
      ],
      "source": [
        "# prompt: Create a Python Streamlit BMI Calculator Web App in Just 6 Minutes\n",
        "\n",
        "import streamlit as st\n",
        "\n",
        "st.title(\"BMI Calculator\")\n",
        "\n",
        "weight = st.number_input(\"Enter your weight in kilograms:\", min_value=0.0)\n",
        "height = st.number_input(\"Enter your height in meters:\", min_value=0.0)\n",
        "\n",
        "if st.button(\"Calculate BMI\"):\n",
        "    if weight > 0 and height > 0:\n",
        "        bmi = weight / (height ** 2)\n",
        "        st.write(f\"Your BMI is: {bmi:.2f}\")\n",
        "\n",
        "        if bmi < 18.5:\n",
        "            st.write(\"You are underweight.\")\n",
        "        elif 18.5 <= bmi < 24.9:\n",
        "            st.write(\"You are in a healthy weight range.\")\n",
        "        elif 25 <= bmi < 29.9:\n",
        "            st.write(\"You are overweight.\")\n",
        "        else:\n",
        "            st.write(\"You are obese.\")\n",
        "    else:\n",
        "        st.write(\"Please enter valid weight and height values.\")\n"
      ]
    }
  ]
}