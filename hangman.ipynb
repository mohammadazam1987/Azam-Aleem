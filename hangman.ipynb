{
  "nbformat": 4,
  "nbformat_minor": 0,
  "metadata": {
    "colab": {
      "provenance": [],
      "include_colab_link": true
    },
    "kernelspec": {
      "name": "python3",
      "display_name": "Python 3"
    },
    "language_info": {
      "name": "python"
    }
  },
  "cells": [
    {
      "cell_type": "markdown",
      "metadata": {
        "id": "view-in-github",
        "colab_type": "text"
      },
      "source": [
        "<a href=\"https://colab.research.google.com/github/mohammadazam1987/Azam-Aleem/blob/main/hangman.ipynb\" target=\"_parent\"><img src=\"https://colab.research.google.com/assets/colab-badge.svg\" alt=\"Open In Colab\"/></a>"
      ]
    },
    {
      "cell_type": "code",
      "execution_count": null,
      "metadata": {
        "colab": {
          "base_uri": "https://localhost:8080/"
        },
        "id": "GjbhzSVnAPhb",
        "outputId": "aea902ea-982d-46c5-dffb-6a6c2ae15bdf"
      },
      "outputs": [
        {
          "output_type": "stream",
          "name": "stdout",
          "text": [
            "Welcome to Hangman!\n",
            "____\n",
            "Incorrect guesses remaining: 6\n",
            "Guess a letter: Good\n",
            "Invalid input. Please enter a single letter.\n",
            "____\n",
            "Incorrect guesses remaining: 6\n",
            "Guess a letter: Better\n",
            "Invalid input. Please enter a single letter.\n",
            "____\n",
            "Incorrect guesses remaining: 6\n",
            "Guess a letter: Best\n",
            "Invalid input. Please enter a single letter.\n",
            "____\n",
            "Incorrect guesses remaining: 6\n",
            "Guess a letter: Pakistan\n",
            "Invalid input. Please enter a single letter.\n",
            "____\n",
            "Incorrect guesses remaining: 6\n",
            "Guess a letter: Lahore\n",
            "Invalid input. Please enter a single letter.\n",
            "____\n",
            "Incorrect guesses remaining: 6\n"
          ]
        }
      ],
      "source": [
        "# prompt: generate Hangman Project in python\n",
        "\n",
        "import random\n",
        "\n",
        "def choose_word():\n",
        "  \"\"\"Chooses a random word from a list.\"\"\"\n",
        "  words = [\"python\", \"javascript\", \"programming\", \"computer\", \"science\", \"algorithm\", \"data\"]\n",
        "  return random.choice(words)\n",
        "\n",
        "def display_word(word, guessed_letters):\n",
        "  \"\"\"Displays the word with underscores for unguessed letters.\"\"\"\n",
        "  display = \"\"\n",
        "  for letter in word:\n",
        "    if letter in guessed_letters:\n",
        "      display += letter\n",
        "    else:\n",
        "      display += \"_\"\n",
        "  return display\n",
        "\n",
        "def play_hangman():\n",
        "  \"\"\"Plays a game of Hangman.\"\"\"\n",
        "  word = choose_word()\n",
        "  guessed_letters = set()\n",
        "  incorrect_guesses = 0\n",
        "  max_incorrect_guesses = 6\n",
        "\n",
        "  print(\"Welcome to Hangman!\")\n",
        "\n",
        "  while incorrect_guesses < max_incorrect_guesses:\n",
        "    print(display_word(word, guessed_letters))\n",
        "    print(f\"Incorrect guesses remaining: {max_incorrect_guesses - incorrect_guesses}\")\n",
        "\n",
        "    if \"_\" not in display_word(word, guessed_letters):\n",
        "      print(\"Congratulations! You won!\")\n",
        "      return\n",
        "\n",
        "    guess = input(\"Guess a letter: \").lower()\n",
        "\n",
        "    if not guess.isalpha() or len(guess) != 1:\n",
        "      print(\"Invalid input. Please enter a single letter.\")\n",
        "      continue\n",
        "\n",
        "    if guess in guessed_letters:\n",
        "      print(\"You already guessed that letter.\")\n",
        "      continue\n",
        "\n",
        "    guessed_letters.add(guess)\n",
        "\n",
        "    if guess not in word:\n",
        "      incorrect_guesses += 1\n",
        "      print(\"Incorrect guess.\")\n",
        "\n",
        "  print(f\"You ran out of guesses. The word was {word}.\")\n",
        "\n",
        "if __name__ == \"__main__\":\n",
        "  play_hangman()\n"
      ]
    }
  ]
}