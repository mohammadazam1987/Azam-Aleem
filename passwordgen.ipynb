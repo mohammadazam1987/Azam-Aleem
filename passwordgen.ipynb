{
  "nbformat": 4,
  "nbformat_minor": 0,
  "metadata": {
    "colab": {
      "provenance": [],
      "authorship_tag": "ABX9TyO+RNFCclt3JG16ctfpimEr",
      "include_colab_link": true
    },
    "kernelspec": {
      "name": "python3",
      "display_name": "Python 3"
    },
    "language_info": {
      "name": "python"
    }
  },
  "cells": [
    {
      "cell_type": "markdown",
      "metadata": {
        "id": "view-in-github",
        "colab_type": "text"
      },
      "source": [
        "<a href=\"https://colab.research.google.com/github/mohammadazam1987/Azam-Aleem/blob/main/passwordgen.ipynb\" target=\"_parent\"><img src=\"https://colab.research.google.com/assets/colab-badge.svg\" alt=\"Open In Colab\"/></a>"
      ]
    },
    {
      "cell_type": "code",
      "execution_count": 2,
      "metadata": {
        "colab": {
          "base_uri": "https://localhost:8080/"
        },
        "id": "57xD1SDiP6a-",
        "outputId": "03189fcc-e7ca-41e4-ea34-54a0356e7000"
      },
      "outputs": [
        {
          "output_type": "stream",
          "name": "stdout",
          "text": [
            "Generated password: wq55LAZk')!?\n"
          ]
        }
      ],
      "source": [
        "# prompt: provide Google Colab URL with using to Generator a password for Python Project,\n",
        "\n",
        "import secrets\n",
        "import string\n",
        "\n",
        "def generate_password(length=12):\n",
        "  \"\"\"Generates a random password of specified length.\"\"\"\n",
        "\n",
        "  alphabet = string.ascii_letters + string.digits + string.punctuation\n",
        "  password = ''.join(secrets.choice(alphabet) for i in range(length))\n",
        "  return password\n",
        "\n",
        "# Example usage:\n",
        "password = generate_password()\n",
        "print(f\"Generated password: {password}\")\n"
      ]
    }
  ]
}