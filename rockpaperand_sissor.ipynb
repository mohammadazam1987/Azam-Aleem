{
  "cells": [
    {
      "cell_type": "markdown",
      "metadata": {
        "id": "view-in-github",
        "colab_type": "text"
      },
      "source": [
        "<a href=\"https://colab.research.google.com/github/mohammadazam1987/Azam-Aleem/blob/main/rockpaperand_sissor.ipynb\" target=\"_parent\"><img src=\"https://colab.research.google.com/assets/colab-badge.svg\" alt=\"Open In Colab\"/></a>"
      ]
    },
    {
      "cell_type": "markdown",
      "metadata": {
        "id": "H-11oZvQ4zU3"
      },
      "source": [
        "Project 4: Rock, paper, scissors Python Project, provide Google Colab URL?"
      ]
    },
    {
      "cell_type": "code",
      "execution_count": null,
      "metadata": {
        "colab": {
          "base_uri": "https://localhost:8080/",
          "height": 70
        },
        "id": "RxCNkFE25f79",
        "outputId": "c58a9fb7-63d2-4f59-ee1d-e12ff949eebf"
      },
      "outputs": [
        {
          "name": "stdout",
          "output_type": "stream",
          "text": [
            "What is your Choice! 'r for rock, 'p' for paper, 's' for scissorsr\n",
            "Computer Choice! 'r for rock, 'p' for paper, 's' for scissorsp\n"
          ]
        },
        {
          "output_type": "execute_result",
          "data": {
            "text/plain": [
              "'You Lose'"
            ],
            "application/vnd.google.colaboratory.intrinsic+json": {
              "type": "string"
            }
          },
          "metadata": {},
          "execution_count": 15
        }
      ],
      "source": [
        "def play():\n",
        "  user=input(\"What is your Choice! 'r for rock, 'p' for paper, 's' for scissors\")\n",
        "  computer=input(\"Computer Choice! 'r for rock, 'p' for paper, 's' for scissors\")\n",
        "  if user == computer:\n",
        "    return 'Its s a tie'\n",
        "  if is_win(user,computer):\n",
        "      return 'You Win'\n",
        "  else:\n",
        "      return 'You Lose'\n",
        "def is_win(player, opponent):\n",
        "  if (player == 'r' and opponent == 's') or (player == 's' and opponent == 'p') or (player == 'p' and opponent == 'r'):\n",
        "    return True\n",
        "play()"
      ]
    }
  ],
  "metadata": {
    "colab": {
      "provenance": [],
      "include_colab_link": true
    },
    "kernelspec": {
      "display_name": "Python 3",
      "name": "python3"
    },
    "language_info": {
      "name": "python"
    }
  },
  "nbformat": 4,
  "nbformat_minor": 0
}